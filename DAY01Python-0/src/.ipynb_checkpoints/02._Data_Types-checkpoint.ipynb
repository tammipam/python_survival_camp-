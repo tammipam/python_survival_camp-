{
 "cells": [
  {
   "cell_type": "markdown",
   "metadata": {
    "colab_type": "text",
    "id": "7gou5fqfnRGv"
   },
   "source": [
    "# Типы данных в Python. Изменяемые и неизменяемые типы. Хранение переменных в памяти"
   ]
  },
  {
   "cell_type": "markdown",
   "metadata": {
    "colab_type": "text",
    "id": "Px79JIsrnRGz"
   },
   "source": [
    "Python – это динамически типизированный язык, тип переменной определяется непосредственно при выполнении программы.\n",
    "\n",
    "Например, строка:\n",
    "\n",
    "`a = 5`\n",
    "\n",
    "объявляет переменную a и присваивает ей значение 5.\n",
    "\n",
    "Python - язык со строгой типизацией, то есть вы не можете складывать например строки и числа, нужно все приводить к одному типу."
   ]
  },
  {
   "cell_type": "code",
   "execution_count": 3,
   "metadata": {
    "colab": {},
    "colab_type": "code",
    "id": "6N_4uTdznRG1",
    "outputId": "22ad0683-5389-4fe2-a6cd-2568c5e2f825"
   },
   "outputs": [
    {
     "name": "stdout",
     "output_type": "stream",
     "text": [
      "<class 'int'>\n",
      "<class 'float'>\n",
      "<class 'str'>\n",
      "<class 'list'>\n"
     ]
    }
   ],
   "source": [
    "a = 5\n",
    "print(type(a))\n",
    "\n",
    "a = 5.5\n",
    "print(type(a))\n",
    "\n",
    "a = 'abc'\n",
    "print(type(a))\n",
    "\n",
    "a = [1, 2]\n",
    "print(type(a))"
   ]
  },
  {
   "cell_type": "code",
   "execution_count": 1,
   "metadata": {},
   "outputs": [
    {
     "ename": "TypeError",
     "evalue": "unsupported operand type(s) for +: 'int' and 'str'",
     "output_type": "error",
     "traceback": [
      "\u001b[0;31m---------------------------------------------------------------------------\u001b[0m",
      "\u001b[0;31mTypeError\u001b[0m                                 Traceback (most recent call last)",
      "\u001b[0;32m<ipython-input-1-35e938321f1a>\u001b[0m in \u001b[0;36m<module>\u001b[0;34m\u001b[0m\n\u001b[1;32m      1\u001b[0m \u001b[0;31m# типы данных не приводятся:\u001b[0m\u001b[0;34m\u001b[0m\u001b[0;34m\u001b[0m\u001b[0;34m\u001b[0m\u001b[0m\n\u001b[1;32m      2\u001b[0m \u001b[0;34m\u001b[0m\u001b[0m\n\u001b[0;32m----> 3\u001b[0;31m \u001b[0;36m1\u001b[0m \u001b[0;34m+\u001b[0m \u001b[0;34m\"5\"\u001b[0m\u001b[0;34m\u001b[0m\u001b[0;34m\u001b[0m\u001b[0m\n\u001b[0m",
      "\u001b[0;31mTypeError\u001b[0m: unsupported operand type(s) for +: 'int' and 'str'"
     ]
    }
   ],
   "source": [
    "# типы данных не приводятся:\n",
    "\n",
    "1 + \"5\""
   ]
  },
  {
   "cell_type": "code",
   "execution_count": 2,
   "metadata": {},
   "outputs": [
    {
     "data": {
      "text/plain": [
       "6"
      ]
     },
     "execution_count": 2,
     "metadata": {},
     "output_type": "execute_result"
    }
   ],
   "source": [
    "# но можно их привести вручную, обернув нужную переменную в конструктор нужного типа:\n",
    "\n",
    "1 + int(\"5\")"
   ]
  },
  {
   "cell_type": "markdown",
   "metadata": {
    "colab_type": "text",
    "id": "hGEE9NDznRG_"
   },
   "source": [
    "## Типы данных\n",
    "К основным встроенным типам данных в Python относятся:\n",
    "\n",
    "- **None** (неопределенное значение переменной)\n",
    "- **Логические переменные** (Boolean Type): True, False\n",
    "- **NotImplemented** (используется для указания Python, что специальный метод не поддерживает конкретные аргументы, а Python будет пытаться использовать альтернативы, если они доступны)\n",
    "- **Числа** (Numeric Type)\n",
    "    - *int* – целое число\n",
    "    - *float* – число с плавающей точкой\n",
    "    - *complex* – комплексное число\n",
    "- **Списки** (Sequence Type)\n",
    "    - *list* – список\n",
    "    - *tuple* – кортеж\n",
    "    - *range* – диапазон\n",
    "- **Строки** (Text Sequence Type )\n",
    "    - *str*\n",
    "- **Бинарные списки** (Binary Sequence Types)\n",
    "    - *bytes* – байты\n",
    "    - *bytearray* – массивы байт\n",
    "    - *memoryview* – специальные объекты для доступа к внутренним данным объекта через protocol buffer\n",
    "- **Множества** (Set Types)\n",
    "    - *set* – множество\n",
    "    - *frozenset* – неизменяемое множество\n",
    "- **Словари** (Mapping Types)\n",
    "    - *dict* – словарь"
   ]
  },
  {
   "cell_type": "markdown",
   "metadata": {
    "colab_type": "text",
    "id": "x1gCErknnRHC"
   },
   "source": [
    "## Хранение переменных в памяти\n",
    "\n",
    "При создании переменной вначале создается **объект**, который имеет **уникальный идентификатор**, **тип** и **значение**, после этого переменная может ссылаться на созданный объект."
   ]
  },
  {
   "cell_type": "code",
   "execution_count": 2,
   "metadata": {},
   "outputs": [
    {
     "data": {
      "image/png": "[encoded data removed]",
      "text/plain": [
       "<IPython.core.display.Image object>"
      ]
     },
     "metadata": {},
     "output_type": "display_data"
    }
   ],
   "source": [
    "from IPython.display import display, Image\n",
    "display(Image(filename='02/02-00.png'))"
   ]
  },
  {
   "cell_type": "code",
   "execution_count": 4,
   "metadata": {
    "colab": {
     "base_uri": "https://localhost:8080/",
     "height": 68
    },
    "colab_type": "code",
    "executionInfo": {
     "elapsed": 2100,
     "status": "ok",
     "timestamp": 1575272498278,
     "user": {
      "displayName": "Надежда Демиденко",
      "photoUrl": "https://lh3.googleusercontent.com/a-/AAuE7mA6D7k5OgtG9hzPe8Abs8DfOKAXQoTXaPfn7EY=s64",
      "userId": "05224310221243935536"
     },
     "user_tz": -180
    },
    "id": "tAglMsYQnRHD",
    "outputId": "75595566-2e30-4bbb-b6b5-f5c9010c42bc"
   },
   "outputs": [
    {
     "name": "stdout",
     "output_type": "stream",
     "text": [
      "идентификатор:  1467121037136\n",
      "тип:            <class 'float'>\n",
      "значение:       19.5\n"
     ]
    }
   ],
   "source": [
    "a = 19.5\n",
    "\n",
    "print('идентификатор: ', id(a))\n",
    "print('тип:           ', type(a))\n",
    "print('значение:      ', a)"
   ]
  },
  {
   "cell_type": "markdown",
   "metadata": {
    "colab_type": "text",
    "id": "zBxjS5PBnRHK"
   },
   "source": [
    "## Изменяемые и неизменяемые типы данных\n",
    "\n",
    "В Python существуют изменяемые и неизменяемые типы.\n",
    "\n",
    "![Типы данных](02/02-03.png)\n",
    "\n",
    "К **неизменяемым** (*immutable*) типам относятся: \n",
    "- целые числа (*int*)\n",
    "- числа с плавающей точкой (*float*)\n",
    "- комплексные числа (*complex*)\n",
    "- логические переменные (*bool*)\n",
    "- кортежи (*tuple*)\n",
    "- строки (*str*)\n",
    "- неизменяемые множества (*frozen set*).\n",
    "\n",
    "К **изменяемым** (mutable) типам относятся:\n",
    "- списки (*list*)\n",
    "- множества (*set*)\n",
    "- словари (*dict*)"
   ]
  },
  {
   "cell_type": "markdown",
   "metadata": {
    "colab_type": "text",
    "id": "rMEig-G9nRHM"
   },
   "source": [
    "### Неизменяемые типы\n",
    "\n",
    "Неизменяемость типа данных означает, что созданный объект больше не изменяется.\n",
    "При изменении значения происходит создание нового объекта, на который теперь будет ссылаться переменная."
   ]
  },
  {
   "cell_type": "code",
   "execution_count": 5,
   "metadata": {
    "colab": {},
    "colab_type": "code",
    "id": "2fNDSEDPnRHO",
    "outputId": "36cd1687-3702-44cf-e7df-f087b85ac6aa"
   },
   "outputs": [
    {
     "name": "stdout",
     "output_type": "stream",
     "text": [
      "140712530190768\n",
      "140712530190832\n"
     ]
    }
   ],
   "source": [
    "a = 2\n",
    "print(id(a))\n",
    "\n",
    "a = 4\n",
    "print(id(a))"
   ]
  },
  {
   "cell_type": "markdown",
   "metadata": {
    "colab_type": "text",
    "id": "j46-f4ibnRHV"
   },
   "source": [
    "Если выполнить операцию присваивания\n",
    "\n",
    "`a = b`\n",
    "\n",
    "то переменная `a` будет ссылаться на тот же объект, что и переменная `b`.\n",
    "\n",
    "Узнать, ссылаются ли переменные на один и тот же объект, можно при помощи операторов тождественности:\n",
    "\n",
    "* `is`\n",
    "* `is not`\n",
    "\n",
    "![Пример адресации переменных неизменяемых типов](02/02-01.png)"
   ]
  },
  {
   "cell_type": "code",
   "execution_count": 6,
   "metadata": {
    "colab": {},
    "colab_type": "code",
    "id": "M0XLS-XcnRHX",
    "outputId": "431b3e62-481a-499b-fde6-b88d25339bb3"
   },
   "outputs": [
    {
     "name": "stdout",
     "output_type": "stream",
     "text": [
      "id(a) =  140712530191216\n",
      "id(b) =  1467121037136\n",
      "id(a) =  1467121037136\n",
      "True\n"
     ]
    }
   ],
   "source": [
    "a = 16\n",
    "print('id(a) = ', id(a))\n",
    "\n",
    "b = 2.2\n",
    "print('id(b) = ', id(b))\n",
    "\n",
    "a = b\n",
    "\n",
    "print('id(a) = ', id(a))\n",
    "print(a is b)"
   ]
  },
  {
   "cell_type": "markdown",
   "metadata": {
    "colab_type": "text",
    "id": "UWHsKNrp89xX"
   },
   "source": [
    "Так как строки - также неизменяемые объекты, при попытке изменить какой-нибудь символ в строке произойдет ошибка:"
   ]
  },
  {
   "cell_type": "code",
   "execution_count": 7,
   "metadata": {
    "colab": {
     "base_uri": "https://localhost:8080/",
     "height": 180
    },
    "colab_type": "code",
    "executionInfo": {
     "elapsed": 1819,
     "status": "error",
     "timestamp": 1575530835506,
     "user": {
      "displayName": "Надежда Демиденко",
      "photoUrl": "https://lh3.googleusercontent.com/a-/AAuE7mA6D7k5OgtG9hzPe8Abs8DfOKAXQoTXaPfn7EY=s64",
      "userId": "05224310221243935536"
     },
     "user_tz": -180
    },
    "id": "lvbc7Hsx9IXH",
    "outputId": "ce421abf-21a7-498b-efbf-2cfd666f440c"
   },
   "outputs": [
    {
     "ename": "TypeError",
     "evalue": "'str' object does not support item assignment",
     "output_type": "error",
     "traceback": [
      "\u001b[1;31m---------------------------------------------------------------------------\u001b[0m",
      "\u001b[1;31mTypeError\u001b[0m                                 Traceback (most recent call last)",
      "\u001b[1;32m<ipython-input-7-8c71338b2bc7>\u001b[0m in \u001b[0;36m<module>\u001b[1;34m\u001b[0m\n\u001b[0;32m      1\u001b[0m \u001b[0ms\u001b[0m \u001b[1;33m=\u001b[0m \u001b[1;34m\"абракадабра\"\u001b[0m\u001b[1;33m\u001b[0m\u001b[1;33m\u001b[0m\u001b[0m\n\u001b[1;32m----> 2\u001b[1;33m \u001b[0ms\u001b[0m\u001b[1;33m[\u001b[0m\u001b[1;36m3\u001b[0m\u001b[1;33m]\u001b[0m \u001b[1;33m=\u001b[0m \u001b[1;34m'ы'\u001b[0m\u001b[1;33m\u001b[0m\u001b[1;33m\u001b[0m\u001b[0m\n\u001b[0m",
      "\u001b[1;31mTypeError\u001b[0m: 'str' object does not support item assignment"
     ]
    }
   ],
   "source": [
    "s = \"абракадабра\"\n",
    "s[3] = 'ы'"
   ]
  },
  {
   "cell_type": "markdown",
   "metadata": {
    "colab_type": "text",
    "id": "Fp8gCBqvnRHc"
   },
   "source": [
    "### Изменяемые типы\n",
    "\n",
    "Изменяемыми объектами являются списки, множества и словари, и их можно менять:\n",
    "\n",
    "- Менять элементы\n",
    "- Добавлять/удалять элементы\n",
    "\n",
    "В примере ниже создан список, а потом изменен второй элемент.\n",
    "\n",
    "В качестве данных списка выступают не объекты, а отношения между объектами. Т.е. в переменной a хранятся ссылки на объекты содержащие числа 1 и 3, а не непосредственно сами эти числа.\n",
    "\n",
    "![Пример адресации переменных изменяемых типов](02/02-02.png)"
   ]
  },
  {
   "cell_type": "code",
   "execution_count": 8,
   "metadata": {
    "colab": {},
    "colab_type": "code",
    "id": "qMz0niUSnRHe",
    "outputId": "8b8390f8-cbe7-4b67-ee70-7815b33cfa5b"
   },
   "outputs": [
    {
     "name": "stdout",
     "output_type": "stream",
     "text": [
      "[1, 2]\n",
      "a:     1467121267848\n",
      "a[1]:  140712530190768\n",
      "\n",
      "[1, 3]\n",
      "a:     1467121267848\n",
      "a[1]:  140712530190800\n",
      "\n",
      "[1, 3, 4]\n",
      "a:     1467121267848\n"
     ]
    }
   ],
   "source": [
    "# Создаем список\n",
    "a = [1, 2]\n",
    "\n",
    "print(a)\n",
    "print('a:    ', id(a))\n",
    "print('a[1]: ', id(a[1]))\n",
    "print()\n",
    "\n",
    "# Изменяем один элемент\n",
    "a[1] = 3\n",
    "\n",
    "print(a)\n",
    "print('a:    ', id(a))\n",
    "print('a[1]: ', id(a[1]))\n",
    "print()\n",
    "\n",
    "# Добавляем еще один элемент в список\n",
    "a.append(4)\n",
    "\n",
    "print(a)\n",
    "print('a:    ', id(a))\n"
   ]
  },
  {
   "cell_type": "markdown",
   "metadata": {
    "colab_type": "text",
    "id": "Z3CNEcb5j4DB"
   },
   "source": [
    "### Классическая задача с собеседований\n",
    "\n",
    "Операция `*3` при создании объекта копирует ссылки. Это видно на следующем примере:"
   ]
  },
  {
   "cell_type": "code",
   "execution_count": 11,
   "metadata": {
    "colab": {
     "base_uri": "https://localhost:8080/",
     "height": 51
    },
    "colab_type": "code",
    "executionInfo": {
     "elapsed": 746,
     "status": "ok",
     "timestamp": 1575272888037,
     "user": {
      "displayName": "Надежда Демиденко",
      "photoUrl": "https://lh3.googleusercontent.com/a-/AAuE7mA6D7k5OgtG9hzPe8Abs8DfOKAXQoTXaPfn7EY=s64",
      "userId": "05224310221243935536"
     },
     "user_tz": -180
    },
    "id": "j4CHjQZPkEP-",
    "outputId": "2e1fad27-5487-47b5-8f3b-b6179565ffc9"
   },
   "outputs": [
    {
     "name": "stdout",
     "output_type": "stream",
     "text": [
      "[[], [], []]\n",
      "[[3], [3], [3]]\n"
     ]
    }
   ],
   "source": [
    "a = [[]] * 3\n",
    "print(a)\n",
    "\n",
    "a[2].append(3)\n",
    "print(a)"
   ]
  }
 ],
 "metadata": {
  "colab": {
   "name": "topic02.ipynb",
   "provenance": []
  },
  "kernelspec": {
   "display_name": "Python 3",
   "language": "python",
   "name": "python3"
  },
  "language_info": {
   "codemirror_mode": {
    "name": "ipython",
    "version": 3
   },
   "file_extension": ".py",
   "mimetype": "text/x-python",
   "name": "python",
   "nbconvert_exporter": "python",
   "pygments_lexer": "ipython3",
   "version": "3.8.5"
  }
 },
 "nbformat": 4,
 "nbformat_minor": 1
}
